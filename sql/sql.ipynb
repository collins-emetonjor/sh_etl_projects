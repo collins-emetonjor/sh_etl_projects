{
 "metadata": {
  "language_info": {
   "codemirror_mode": {
    "name": "ipython",
    "version": 3
   },
   "file_extension": ".py",
   "mimetype": "text/x-python",
   "name": "python",
   "nbconvert_exporter": "python",
   "pygments_lexer": "ipython3",
   "version": 3
  },
  "orig_nbformat": 2,
  "kernelspec": {
   "name": "python_defaultSpec_1595859605039",
   "display_name": "Python 3.8.3 32-bit"
  }
 },
 "nbformat": 4,
 "nbformat_minor": 2,
 "cells": [
  {
   "cell_type": "code",
   "execution_count": 7,
   "metadata": {},
   "outputs": [],
   "source": [
    "# importing modules\n",
    "\n",
    "import pyodbc\n",
    "import pandas as pd\n",
    "\n",
    "# import variables\n",
    "from variable import server, username, password, database_name, table_staging_raw, table_staging_clean, path_to_file\n",
    "from haversine import haversine, Unit\n",
    "\n"
   ]
  },
  {
   "cell_type": "code",
   "execution_count": 8,
   "metadata": {
    "tags": []
   },
   "outputs": [
    {
     "output_type": "stream",
     "name": "stdout",
     "text": "Connected to SQL Server Successfully\n"
    }
   ],
   "source": [
    "# connecting to sql server \n",
    "\n",
    "connection = None\n",
    "try:\n",
    "    connection = pyodbc.connect('DRIVER={ODBC Driver 17 for SQL Server};SERVER=' +\n",
    "                                server+';UID='+username+';PWD=' + password+';Database=' + database_name)\n",
    "\n",
    "    print('Connected to SQL Server Successfully')\n",
    "except:\n",
    "    print('Connection failed to SQL Server')\n",
    "\n",
    "if connection is not None:\n",
    "    connection.autocommit = True\n",
    "\n",
    "cur = connection.cursor()"
   ]
  },
  {
   "cell_type": "code",
   "execution_count": 33,
   "metadata": {
    "tags": []
   },
   "outputs": [
    {
     "output_type": "stream",
     "name": "stdout",
     "text": "dataframe loaded with data\n"
    }
   ],
   "source": [
    "\n",
    "\n",
    "df_mushrooms = pd.read_sql_query(\"SELECT [cap-shape], [cap-color], odor, [gill-size], [gill-color], [stalk-color-above-ring], [veil-color], [ring-type], [spore-print-color], population, habitat, lat, lon FROM {} \".format(table_staging_clean),connection)\n",
    "#print(sql_query)\n",
    "\n",
    "print('dataframe loaded with data')"
   ]
  },
  {
   "cell_type": "code",
   "execution_count": 24,
   "metadata": {
    "tags": []
   },
   "outputs": [
    {
     "output_type": "stream",
     "name": "stdout",
     "text": "SQL Grouping applied to SQL dataset and loaded to Dataframe\n"
    }
   ],
   "source": [
    "df_mushroom_group_by_attributes = pd.read_sql_query(\"SELECT  [cap-shape], [cap-color], odor, [gill-size], [gill-color], [stalk-color-above-ring], [veil-color], [ring-type], [spore-print-color], population, habitat, count(*) count_of_species_per_attributes_grouping FROM {} GROUP BY [cap-shape], [cap-color], [odor], [gill-size],[gill-color], [stalk-color-above-ring], [veil-color], [ring-type], [spore-print-color], [population], [habitat]\".format(table_staging_clean),connection)\n",
    "\n",
    "print('SQL Grouping applied to SQL dataset and loaded to Dataframe')\n",
    "\n"
   ]
  },
  {
   "cell_type": "code",
   "execution_count": 27,
   "metadata": {
    "tags": []
   },
   "outputs": [
    {
     "output_type": "stream",
     "name": "stdout",
     "text": "Q1-How many different species of mushroom are there, if a species is identified by the attributes 1-20?\nnumber_of_diff_species_of_mushroom: 170\n"
    }
   ],
   "source": [
    "index = df_mushroom_group_by_attributes.index\n",
    "number_of_diff_species_of_mushroom = len(index)\n",
    "\n",
    "print('Q1-How many different species of mushroom are there, if a species is identified by the attributes 1-20?')\n",
    "print('number_of_diff_species_of_mushroom: '  + str(number_of_diff_species_of_mushroom))\n",
    "\n"
   ]
  },
  {
   "cell_type": "code",
   "execution_count": 29,
   "metadata": {},
   "outputs": [
    {
     "output_type": "execute_result",
     "data": {
      "text/plain": "  cap-shape cap-color odor gill-size gill-color stalk-color-above-ring  \\\n0         p         s    t         c      brown                      s   \n1         e         s    t         c       buff                      s   \n2         e         s    t         c       buff                      s   \n3         p    yellow    t         c      brown                      s   \n\n  veil-color ring-type spore-print-color population  habitat      lat  \\\n0      white   pendant             black  scattered    urban  46.4504   \n1      white   pendant             brown   numerous  grasses  37.6917   \n2      white   pendant             brown   numerous  meadows -23.2831   \n3      white   pendant             black  scattered    urban -54.2210   \n\n        lon  \n0   62.4556  \n1  -91.1085  \n2  -37.9087  \n3  108.3953  ",
      "text/html": "<div>\n<style scoped>\n    .dataframe tbody tr th:only-of-type {\n        vertical-align: middle;\n    }\n\n    .dataframe tbody tr th {\n        vertical-align: top;\n    }\n\n    .dataframe thead th {\n        text-align: right;\n    }\n</style>\n<table border=\"1\" class=\"dataframe\">\n  <thead>\n    <tr style=\"text-align: right;\">\n      <th></th>\n      <th>cap-shape</th>\n      <th>cap-color</th>\n      <th>odor</th>\n      <th>gill-size</th>\n      <th>gill-color</th>\n      <th>stalk-color-above-ring</th>\n      <th>veil-color</th>\n      <th>ring-type</th>\n      <th>spore-print-color</th>\n      <th>population</th>\n      <th>habitat</th>\n      <th>lat</th>\n      <th>lon</th>\n    </tr>\n  </thead>\n  <tbody>\n    <tr>\n      <th>0</th>\n      <td>p</td>\n      <td>s</td>\n      <td>t</td>\n      <td>c</td>\n      <td>brown</td>\n      <td>s</td>\n      <td>white</td>\n      <td>pendant</td>\n      <td>black</td>\n      <td>scattered</td>\n      <td>urban</td>\n      <td>46.4504</td>\n      <td>62.4556</td>\n    </tr>\n    <tr>\n      <th>1</th>\n      <td>e</td>\n      <td>s</td>\n      <td>t</td>\n      <td>c</td>\n      <td>buff</td>\n      <td>s</td>\n      <td>white</td>\n      <td>pendant</td>\n      <td>brown</td>\n      <td>numerous</td>\n      <td>grasses</td>\n      <td>37.6917</td>\n      <td>-91.1085</td>\n    </tr>\n    <tr>\n      <th>2</th>\n      <td>e</td>\n      <td>s</td>\n      <td>t</td>\n      <td>c</td>\n      <td>buff</td>\n      <td>s</td>\n      <td>white</td>\n      <td>pendant</td>\n      <td>brown</td>\n      <td>numerous</td>\n      <td>meadows</td>\n      <td>-23.2831</td>\n      <td>-37.9087</td>\n    </tr>\n    <tr>\n      <th>3</th>\n      <td>p</td>\n      <td>yellow</td>\n      <td>t</td>\n      <td>c</td>\n      <td>brown</td>\n      <td>s</td>\n      <td>white</td>\n      <td>pendant</td>\n      <td>black</td>\n      <td>scattered</td>\n      <td>urban</td>\n      <td>-54.2210</td>\n      <td>108.3953</td>\n    </tr>\n  </tbody>\n</table>\n</div>"
     },
     "metadata": {},
     "execution_count": 29
    }
   ],
   "source": [
    "df_mushrooms.head(4)"
   ]
  },
  {
   "cell_type": "code",
   "execution_count": 35,
   "metadata": {
    "tags": []
   },
   "outputs": [
    {
     "output_type": "stream",
     "name": "stdout",
     "text": "Q2 Does habitat and cap-color correlate?\nNo correlation between cap-color & habitat \n           cap-color   habitat       lat       lon\ncap-color   1.000000 -0.017502  0.010444 -0.002747\nhabitat    -0.017502  1.000000  0.007488 -0.003121\nlat         0.010444  0.007488  1.000000  0.007516\nlon        -0.002747 -0.003121  0.007516  1.000000\n"
    }
   ],
   "source": [
    "#converting string representation into an integer representation.\n",
    "\n",
    "df_mushrooms['habitat']=df_mushrooms[\"habitat\"].astype('category').cat.codes\n",
    "df_mushrooms['cap-color']=df_mushrooms[\"cap-color\"].astype('category').cat.codes\n",
    "corr = df_mushrooms.corr()\n",
    "\n",
    "print('Q2 Does habitat and cap-color correlate?')\n",
    "print(\"No correlation between cap-color & habitat \")\n",
    "print (corr)\n"
   ]
  },
  {
   "cell_type": "code",
   "execution_count": 36,
   "metadata": {
    "tags": []
   },
   "outputs": [
    {
     "output_type": "stream",
     "name": "stdout",
     "text": "replacing '-' with '_' in dataframe column names\n"
    }
   ],
   "source": [
    "print(\"replacing '-' with '_' in dataframe column names\")\n",
    "\n",
    "df_mushrooms.columns= df_mushrooms.columns.str.replace(r'-', '_')\n"
   ]
  },
  {
   "cell_type": "code",
   "execution_count": 37,
   "metadata": {
    "tags": []
   },
   "outputs": [
    {
     "output_type": "stream",
     "name": "stdout",
     "text": "checking dataframe for changes\n"
    },
    {
     "output_type": "execute_result",
     "data": {
      "text/plain": "  cap_shape  cap_color odor gill_size gill_color stalk_color_above_ring  \\\n0         p          2    t         c      brown                      s   \n1         e          2    t         c       buff                      s   \n\n  veil_color ring_type spore_print_color population  habitat      lat      lon  \n0      white   pendant             black  scattered        4  46.4504  62.4556  \n1      white   pendant             brown   numerous        0  37.6917 -91.1085  ",
      "text/html": "<div>\n<style scoped>\n    .dataframe tbody tr th:only-of-type {\n        vertical-align: middle;\n    }\n\n    .dataframe tbody tr th {\n        vertical-align: top;\n    }\n\n    .dataframe thead th {\n        text-align: right;\n    }\n</style>\n<table border=\"1\" class=\"dataframe\">\n  <thead>\n    <tr style=\"text-align: right;\">\n      <th></th>\n      <th>cap_shape</th>\n      <th>cap_color</th>\n      <th>odor</th>\n      <th>gill_size</th>\n      <th>gill_color</th>\n      <th>stalk_color_above_ring</th>\n      <th>veil_color</th>\n      <th>ring_type</th>\n      <th>spore_print_color</th>\n      <th>population</th>\n      <th>habitat</th>\n      <th>lat</th>\n      <th>lon</th>\n    </tr>\n  </thead>\n  <tbody>\n    <tr>\n      <th>0</th>\n      <td>p</td>\n      <td>2</td>\n      <td>t</td>\n      <td>c</td>\n      <td>brown</td>\n      <td>s</td>\n      <td>white</td>\n      <td>pendant</td>\n      <td>black</td>\n      <td>scattered</td>\n      <td>4</td>\n      <td>46.4504</td>\n      <td>62.4556</td>\n    </tr>\n    <tr>\n      <th>1</th>\n      <td>e</td>\n      <td>2</td>\n      <td>t</td>\n      <td>c</td>\n      <td>buff</td>\n      <td>s</td>\n      <td>white</td>\n      <td>pendant</td>\n      <td>brown</td>\n      <td>numerous</td>\n      <td>0</td>\n      <td>37.6917</td>\n      <td>-91.1085</td>\n    </tr>\n  </tbody>\n</table>\n</div>"
     },
     "metadata": {},
     "execution_count": 37
    }
   ],
   "source": [
    "print(\"checking dataframe for changes\")\n",
    "df_mushrooms.head(2)\n",
    "\n"
   ]
  },
  {
   "cell_type": "code",
   "execution_count": 73,
   "metadata": {
    "tags": []
   },
   "outputs": [
    {
     "output_type": "stream",
     "name": "stdout",
     "text": "Q3 Considering a specific geographical point, what colours should we be able to see in the 10 km around it?\n"
    }
   ],
   "source": [
    "print('Q3 Considering a specific geographical point, what colours should we be able to see in the 10 km around it?')\n",
    "\n",
    "# loop through rows in dataframes\n",
    "\n",
    "\"\"\" using the lat and lon of the row below as a reference.\n",
    "\n",
    "cap-shape\tcap-color\todor\tgill-size\tgill-color\tstalk-color-above-ring\tveil-color\tring-type\tspore-print-color\tpopulation\thabitat\t\n",
    "p\t        s\t        t\t      c\t        brown\t    s\t                    white\t    pendant\t     black\t            scattered\turban\t        \n",
    "\n",
    "lat\t    lon\t    Time\n",
    "46.4504\t62.4556\t2:24:56 PM\n",
    "\n",
    "find mushrooms which are within 10km from the location of the refernce mushroom above and exclude reference mushroom\n",
    "\n",
    "\"\"\"\n",
    "\n",
    "# variables to hold reference lat & log\n",
    "ref_lat = df_mushrooms['lat'].head(1)\n",
    "ref_lon = df_mushrooms['lon'].head(1)\n",
    "\n",
    "for row in df_mushrooms.itertuples():\n",
    "    # mushooms within 10km of reference mushoom location\n",
    "    if (haversine((ref_lat, ref_lon ),(row.lat, row.lon))) <= 10 and row.lat != 46.4504:\n",
    "        print (row.index, row.lat, row.lon, row.spore_print_color,  (haversine((ref_lat, ref_lon),(row.lat, row.lon))))\n",
    "     \n"
   ]
  },
  {
   "cell_type": "code",
   "execution_count": null,
   "metadata": {},
   "outputs": [],
   "source": []
  }
 ]
}